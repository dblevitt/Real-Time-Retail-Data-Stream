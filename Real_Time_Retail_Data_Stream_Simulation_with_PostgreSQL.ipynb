{
  "nbformat": 4,
  "nbformat_minor": 0,
  "metadata": {
    "colab": {
      "provenance": []
    },
    "kernelspec": {
      "name": "python3",
      "display_name": "Python 3"
    },
    "language_info": {
      "name": "python"
    }
  },
  "cells": [
    {
      "cell_type": "markdown",
      "source": [
        "# **Real-Time Retail Data Simulation with PostgreSQL**\n",
        "This notebook simulates a live data stream of retail transactions, inserts them into a PostgreSQL database in real time, and visualizes product-level revenue as it updates."
      ],
      "metadata": {
        "id": "85WeaT7OSBhz"
      }
    },
    {
      "cell_type": "code",
      "source": [
        "!pip install sqlalchemy\n",
        "\n",
        "from sqlalchemy import create_engine\n",
        "import getpass\n",
        "import time\n",
        "import random\n",
        "import pandas as pd\n",
        "from datetime import datetime\n",
        "import matplotlib.pyplot as plt"
      ],
      "metadata": {
        "colab": {
          "base_uri": "https://localhost:8080/"
        },
        "id": "8BvC69rySkvX",
        "outputId": "4d04f694-09d3-4e4a-aff9-58e45c3d2621"
      },
      "execution_count": 16,
      "outputs": [
        {
          "output_type": "stream",
          "name": "stdout",
          "text": [
            "Requirement already satisfied: sqlalchemy in /usr/local/lib/python3.11/dist-packages (2.0.40)\n",
            "Requirement already satisfied: greenlet>=1 in /usr/local/lib/python3.11/dist-packages (from sqlalchemy) (3.2.2)\n",
            "Requirement already satisfied: typing-extensions>=4.6.0 in /usr/local/lib/python3.11/dist-packages (from sqlalchemy) (4.13.2)\n"
          ]
        }
      ]
    },
    {
      "cell_type": "markdown",
      "source": [
        "### **Step 1: Connect to the PostgreSQL Database**"
      ],
      "metadata": {
        "id": "6VQfAxTKSRoH"
      }
    },
    {
      "cell_type": "code",
      "execution_count": 17,
      "metadata": {
        "colab": {
          "base_uri": "https://localhost:8080/"
        },
        "id": "XDa2REzJLVwh",
        "outputId": "703c227c-10c0-4869-836f-44513d908691"
      },
      "outputs": [
        {
          "name": "stdout",
          "output_type": "stream",
          "text": [
            "Enter your DB password: ··········\n"
          ]
        }
      ],
      "source": [
        "# Prompt for secure password entry\n",
        "password = getpass.getpass(\"Enter your DB password: \")\n",
        "\n",
        "# Define your PostgreSQL RDS connection parameters\n",
        "host = input(\"Enter your DB host: \")\n",
        "port = '5432'\n",
        "database = 'postgres'\n",
        "username = 'postgres'\n",
        "\n",
        "# Construct connection string\n",
        "connection_string = f'postgresql+psycopg2://{username}:{password}@{host}:{port}/{database}'\n",
        "\n",
        "# Create SQLAlchemy engine\n",
        "engine = create_engine(connection_string)"
      ]
    },
    {
      "cell_type": "markdown",
      "source": [
        "### **Step 2: Simulate and Insert Real-Time Retail Transactions**"
      ],
      "metadata": {
        "id": "E2caOJqrS3Im"
      }
    },
    {
      "cell_type": "code",
      "source": [
        "# Sample products and prices\n",
        "products = ['Shirt', 'Shoes', 'Backpack', 'Hat', 'Jacket']\n",
        "prices = [19.99, 29.99, 49.99, 59.99]\n",
        "\n",
        "# Simulate and insert 20 transactions\n",
        "for _ in range(20):\n",
        "    customer_id = random.randint(1000, 9999)\n",
        "    product = random.choice(products)\n",
        "    quantity = random.randint(1, 5)\n",
        "    price_per_unit = random.choice(prices)\n",
        "    total_price = quantity * price_per_unit\n",
        "    timestamp = datetime.now()\n",
        "\n",
        "    # Create single-row DataFrame\n",
        "    df = pd.DataFrame([{\n",
        "        'timestamp': timestamp,\n",
        "        'customer_id': customer_id,\n",
        "        'product': product,\n",
        "        'quantity': quantity,\n",
        "        'price_per_unit': price_per_unit,\n",
        "        'total_price': total_price\n",
        "    }])\n",
        "\n",
        "    # Insert into database\n",
        "    df.to_sql('retail_stream', engine, if_exists='append', index=False)\n",
        "    print(f\"Inserted: {df.iloc[0].to_dict()}\")\n",
        "\n",
        "    time.sleep(2)  # Wait 2 seconds between transactions"
      ],
      "metadata": {
        "colab": {
          "base_uri": "https://localhost:8080/"
        },
        "id": "tgbkCR_sM77J",
        "outputId": "dd2e24fb-a36d-41f8-93a1-039a64308bcd"
      },
      "execution_count": 18,
      "outputs": [
        {
          "output_type": "stream",
          "name": "stdout",
          "text": [
            "Inserted: {'timestamp': Timestamp('2025-05-26 01:52:30.569888'), 'customer_id': 4354, 'product': 'Hat', 'quantity': 3, 'price_per_unit': 49.99, 'total_price': 149.97}\n",
            "Inserted: {'timestamp': Timestamp('2025-05-26 01:52:33.072384'), 'customer_id': 3322, 'product': 'Jacket', 'quantity': 1, 'price_per_unit': 59.99, 'total_price': 59.99}\n",
            "Inserted: {'timestamp': Timestamp('2025-05-26 01:52:35.169141'), 'customer_id': 6335, 'product': 'Shoes', 'quantity': 5, 'price_per_unit': 49.99, 'total_price': 249.95000000000002}\n",
            "Inserted: {'timestamp': Timestamp('2025-05-26 01:52:37.555097'), 'customer_id': 8545, 'product': 'Hat', 'quantity': 4, 'price_per_unit': 29.99, 'total_price': 119.96}\n",
            "Inserted: {'timestamp': Timestamp('2025-05-26 01:52:39.653027'), 'customer_id': 7984, 'product': 'Jacket', 'quantity': 5, 'price_per_unit': 49.99, 'total_price': 249.95000000000002}\n",
            "Inserted: {'timestamp': Timestamp('2025-05-26 01:52:41.741841'), 'customer_id': 4231, 'product': 'Shirt', 'quantity': 5, 'price_per_unit': 19.99, 'total_price': 99.94999999999999}\n",
            "Inserted: {'timestamp': Timestamp('2025-05-26 01:52:43.829653'), 'customer_id': 2176, 'product': 'Shirt', 'quantity': 2, 'price_per_unit': 29.99, 'total_price': 59.98}\n",
            "Inserted: {'timestamp': Timestamp('2025-05-26 01:52:45.917036'), 'customer_id': 3314, 'product': 'Shoes', 'quantity': 2, 'price_per_unit': 29.99, 'total_price': 59.98}\n",
            "Inserted: {'timestamp': Timestamp('2025-05-26 01:52:48.003854'), 'customer_id': 4132, 'product': 'Jacket', 'quantity': 5, 'price_per_unit': 29.99, 'total_price': 149.95}\n",
            "Inserted: {'timestamp': Timestamp('2025-05-26 01:52:50.090867'), 'customer_id': 6225, 'product': 'Jacket', 'quantity': 1, 'price_per_unit': 59.99, 'total_price': 59.99}\n",
            "Inserted: {'timestamp': Timestamp('2025-05-26 01:52:52.178761'), 'customer_id': 5696, 'product': 'Shirt', 'quantity': 4, 'price_per_unit': 29.99, 'total_price': 119.96}\n",
            "Inserted: {'timestamp': Timestamp('2025-05-26 01:52:54.266613'), 'customer_id': 3543, 'product': 'Hat', 'quantity': 3, 'price_per_unit': 29.99, 'total_price': 89.97}\n",
            "Inserted: {'timestamp': Timestamp('2025-05-26 01:52:56.355240'), 'customer_id': 3818, 'product': 'Backpack', 'quantity': 3, 'price_per_unit': 59.99, 'total_price': 179.97}\n",
            "Inserted: {'timestamp': Timestamp('2025-05-26 01:52:58.443963'), 'customer_id': 5753, 'product': 'Jacket', 'quantity': 4, 'price_per_unit': 19.99, 'total_price': 79.96}\n",
            "Inserted: {'timestamp': Timestamp('2025-05-26 01:53:00.530656'), 'customer_id': 1263, 'product': 'Hat', 'quantity': 1, 'price_per_unit': 29.99, 'total_price': 29.99}\n",
            "Inserted: {'timestamp': Timestamp('2025-05-26 01:53:02.618038'), 'customer_id': 1068, 'product': 'Hat', 'quantity': 3, 'price_per_unit': 29.99, 'total_price': 89.97}\n",
            "Inserted: {'timestamp': Timestamp('2025-05-26 01:53:04.705108'), 'customer_id': 4362, 'product': 'Shirt', 'quantity': 3, 'price_per_unit': 49.99, 'total_price': 149.97}\n",
            "Inserted: {'timestamp': Timestamp('2025-05-26 01:53:06.792531'), 'customer_id': 7884, 'product': 'Hat', 'quantity': 4, 'price_per_unit': 19.99, 'total_price': 79.96}\n",
            "Inserted: {'timestamp': Timestamp('2025-05-26 01:53:08.880942'), 'customer_id': 3907, 'product': 'Hat', 'quantity': 2, 'price_per_unit': 49.99, 'total_price': 99.98}\n",
            "Inserted: {'timestamp': Timestamp('2025-05-26 01:53:10.976311'), 'customer_id': 7646, 'product': 'Hat', 'quantity': 3, 'price_per_unit': 19.99, 'total_price': 59.97}\n"
          ]
        }
      ]
    },
    {
      "cell_type": "markdown",
      "source": [
        "**This output shows that the code successfully simulated and inserted 20 retail transactions into your PostgreSQL database table named retail_stream.**\n",
        "\n",
        "Each Inserted: line shows one transaction that includes:\n",
        "- 'timestamp': The exact time the transaction was simulated\n",
        "- 'customer_id': A randomly generated ID (1000–9999)\n",
        "- 'product': One of the products (e.g. Hat, Shirt, Jacket, Backpack)\n",
        "- 'quantity': Number of units purchased (random between 1–5)\n",
        "- 'price_per_unit': The price of a single item (random from your list)\n",
        "- 'total_price': quantity × price_per_unit (calculated)\n",
        "\n",
        "These records were also written to the PostgreSQL database — one every 2 seconds."
      ],
      "metadata": {
        "id": "vTmGiAazOFBa"
      }
    },
    {
      "cell_type": "markdown",
      "source": [
        "### **3. Read the `retail_stream` table into a DataFrame**"
      ],
      "metadata": {
        "id": "ra0lej63PA_a"
      }
    },
    {
      "cell_type": "markdown",
      "source": [
        "This will help bring the live data from your PostgreSQL database into Python for further analysis, visualization, or verification."
      ],
      "metadata": {
        "id": "JfpAfKLRO7ay"
      }
    },
    {
      "cell_type": "code",
      "source": [
        "df_stream = pd.read_sql('SELECT * FROM retail_stream', engine)\n",
        "df_stream.head()"
      ],
      "metadata": {
        "colab": {
          "base_uri": "https://localhost:8080/",
          "height": 206
        },
        "id": "_KYnLlcJOr83",
        "outputId": "907cf921-b958-4b71-c39e-7211261b68b8"
      },
      "execution_count": 19,
      "outputs": [
        {
          "output_type": "execute_result",
          "data": {
            "text/plain": [
              "                   timestamp  customer_id product  quantity  price_per_unit  \\\n",
              "0 2025-05-26 01:30:38.704005         5325     Hat         4           49.99   \n",
              "1 2025-05-26 01:30:41.259934         4859     Hat         2           19.99   \n",
              "2 2025-05-26 01:30:43.345997         1119     Hat         4           49.99   \n",
              "3 2025-05-26 01:30:45.431255         5065   Shirt         5           19.99   \n",
              "4 2025-05-26 01:30:47.516777         1799   Shirt         2           19.99   \n",
              "\n",
              "   total_price  \n",
              "0       199.96  \n",
              "1        39.98  \n",
              "2       199.96  \n",
              "3        99.95  \n",
              "4        39.98  "
            ],
            "text/html": [
              "\n",
              "  <div id=\"df-a5d30c3b-724f-4834-8b4b-a8b3aeaae092\" class=\"colab-df-container\">\n",
              "    <div>\n",
              "<style scoped>\n",
              "    .dataframe tbody tr th:only-of-type {\n",
              "        vertical-align: middle;\n",
              "    }\n",
              "\n",
              "    .dataframe tbody tr th {\n",
              "        vertical-align: top;\n",
              "    }\n",
              "\n",
              "    .dataframe thead th {\n",
              "        text-align: right;\n",
              "    }\n",
              "</style>\n",
              "<table border=\"1\" class=\"dataframe\">\n",
              "  <thead>\n",
              "    <tr style=\"text-align: right;\">\n",
              "      <th></th>\n",
              "      <th>timestamp</th>\n",
              "      <th>customer_id</th>\n",
              "      <th>product</th>\n",
              "      <th>quantity</th>\n",
              "      <th>price_per_unit</th>\n",
              "      <th>total_price</th>\n",
              "    </tr>\n",
              "  </thead>\n",
              "  <tbody>\n",
              "    <tr>\n",
              "      <th>0</th>\n",
              "      <td>2025-05-26 01:30:38.704005</td>\n",
              "      <td>5325</td>\n",
              "      <td>Hat</td>\n",
              "      <td>4</td>\n",
              "      <td>49.99</td>\n",
              "      <td>199.96</td>\n",
              "    </tr>\n",
              "    <tr>\n",
              "      <th>1</th>\n",
              "      <td>2025-05-26 01:30:41.259934</td>\n",
              "      <td>4859</td>\n",
              "      <td>Hat</td>\n",
              "      <td>2</td>\n",
              "      <td>19.99</td>\n",
              "      <td>39.98</td>\n",
              "    </tr>\n",
              "    <tr>\n",
              "      <th>2</th>\n",
              "      <td>2025-05-26 01:30:43.345997</td>\n",
              "      <td>1119</td>\n",
              "      <td>Hat</td>\n",
              "      <td>4</td>\n",
              "      <td>49.99</td>\n",
              "      <td>199.96</td>\n",
              "    </tr>\n",
              "    <tr>\n",
              "      <th>3</th>\n",
              "      <td>2025-05-26 01:30:45.431255</td>\n",
              "      <td>5065</td>\n",
              "      <td>Shirt</td>\n",
              "      <td>5</td>\n",
              "      <td>19.99</td>\n",
              "      <td>99.95</td>\n",
              "    </tr>\n",
              "    <tr>\n",
              "      <th>4</th>\n",
              "      <td>2025-05-26 01:30:47.516777</td>\n",
              "      <td>1799</td>\n",
              "      <td>Shirt</td>\n",
              "      <td>2</td>\n",
              "      <td>19.99</td>\n",
              "      <td>39.98</td>\n",
              "    </tr>\n",
              "  </tbody>\n",
              "</table>\n",
              "</div>\n",
              "    <div class=\"colab-df-buttons\">\n",
              "\n",
              "  <div class=\"colab-df-container\">\n",
              "    <button class=\"colab-df-convert\" onclick=\"convertToInteractive('df-a5d30c3b-724f-4834-8b4b-a8b3aeaae092')\"\n",
              "            title=\"Convert this dataframe to an interactive table.\"\n",
              "            style=\"display:none;\">\n",
              "\n",
              "  <svg xmlns=\"http://www.w3.org/2000/svg\" height=\"24px\" viewBox=\"0 -960 960 960\">\n",
              "    <path d=\"M120-120v-720h720v720H120Zm60-500h600v-160H180v160Zm220 220h160v-160H400v160Zm0 220h160v-160H400v160ZM180-400h160v-160H180v160Zm440 0h160v-160H620v160ZM180-180h160v-160H180v160Zm440 0h160v-160H620v160Z\"/>\n",
              "  </svg>\n",
              "    </button>\n",
              "\n",
              "  <style>\n",
              "    .colab-df-container {\n",
              "      display:flex;\n",
              "      gap: 12px;\n",
              "    }\n",
              "\n",
              "    .colab-df-convert {\n",
              "      background-color: #E8F0FE;\n",
              "      border: none;\n",
              "      border-radius: 50%;\n",
              "      cursor: pointer;\n",
              "      display: none;\n",
              "      fill: #1967D2;\n",
              "      height: 32px;\n",
              "      padding: 0 0 0 0;\n",
              "      width: 32px;\n",
              "    }\n",
              "\n",
              "    .colab-df-convert:hover {\n",
              "      background-color: #E2EBFA;\n",
              "      box-shadow: 0px 1px 2px rgba(60, 64, 67, 0.3), 0px 1px 3px 1px rgba(60, 64, 67, 0.15);\n",
              "      fill: #174EA6;\n",
              "    }\n",
              "\n",
              "    .colab-df-buttons div {\n",
              "      margin-bottom: 4px;\n",
              "    }\n",
              "\n",
              "    [theme=dark] .colab-df-convert {\n",
              "      background-color: #3B4455;\n",
              "      fill: #D2E3FC;\n",
              "    }\n",
              "\n",
              "    [theme=dark] .colab-df-convert:hover {\n",
              "      background-color: #434B5C;\n",
              "      box-shadow: 0px 1px 3px 1px rgba(0, 0, 0, 0.15);\n",
              "      filter: drop-shadow(0px 1px 2px rgba(0, 0, 0, 0.3));\n",
              "      fill: #FFFFFF;\n",
              "    }\n",
              "  </style>\n",
              "\n",
              "    <script>\n",
              "      const buttonEl =\n",
              "        document.querySelector('#df-a5d30c3b-724f-4834-8b4b-a8b3aeaae092 button.colab-df-convert');\n",
              "      buttonEl.style.display =\n",
              "        google.colab.kernel.accessAllowed ? 'block' : 'none';\n",
              "\n",
              "      async function convertToInteractive(key) {\n",
              "        const element = document.querySelector('#df-a5d30c3b-724f-4834-8b4b-a8b3aeaae092');\n",
              "        const dataTable =\n",
              "          await google.colab.kernel.invokeFunction('convertToInteractive',\n",
              "                                                    [key], {});\n",
              "        if (!dataTable) return;\n",
              "\n",
              "        const docLinkHtml = 'Like what you see? Visit the ' +\n",
              "          '<a target=\"_blank\" href=https://colab.research.google.com/notebooks/data_table.ipynb>data table notebook</a>'\n",
              "          + ' to learn more about interactive tables.';\n",
              "        element.innerHTML = '';\n",
              "        dataTable['output_type'] = 'display_data';\n",
              "        await google.colab.output.renderOutput(dataTable, element);\n",
              "        const docLink = document.createElement('div');\n",
              "        docLink.innerHTML = docLinkHtml;\n",
              "        element.appendChild(docLink);\n",
              "      }\n",
              "    </script>\n",
              "  </div>\n",
              "\n",
              "\n",
              "    <div id=\"df-6ae78c93-9e64-4910-9b9d-f878a33d6561\">\n",
              "      <button class=\"colab-df-quickchart\" onclick=\"quickchart('df-6ae78c93-9e64-4910-9b9d-f878a33d6561')\"\n",
              "                title=\"Suggest charts\"\n",
              "                style=\"display:none;\">\n",
              "\n",
              "<svg xmlns=\"http://www.w3.org/2000/svg\" height=\"24px\"viewBox=\"0 0 24 24\"\n",
              "     width=\"24px\">\n",
              "    <g>\n",
              "        <path d=\"M19 3H5c-1.1 0-2 .9-2 2v14c0 1.1.9 2 2 2h14c1.1 0 2-.9 2-2V5c0-1.1-.9-2-2-2zM9 17H7v-7h2v7zm4 0h-2V7h2v10zm4 0h-2v-4h2v4z\"/>\n",
              "    </g>\n",
              "</svg>\n",
              "      </button>\n",
              "\n",
              "<style>\n",
              "  .colab-df-quickchart {\n",
              "      --bg-color: #E8F0FE;\n",
              "      --fill-color: #1967D2;\n",
              "      --hover-bg-color: #E2EBFA;\n",
              "      --hover-fill-color: #174EA6;\n",
              "      --disabled-fill-color: #AAA;\n",
              "      --disabled-bg-color: #DDD;\n",
              "  }\n",
              "\n",
              "  [theme=dark] .colab-df-quickchart {\n",
              "      --bg-color: #3B4455;\n",
              "      --fill-color: #D2E3FC;\n",
              "      --hover-bg-color: #434B5C;\n",
              "      --hover-fill-color: #FFFFFF;\n",
              "      --disabled-bg-color: #3B4455;\n",
              "      --disabled-fill-color: #666;\n",
              "  }\n",
              "\n",
              "  .colab-df-quickchart {\n",
              "    background-color: var(--bg-color);\n",
              "    border: none;\n",
              "    border-radius: 50%;\n",
              "    cursor: pointer;\n",
              "    display: none;\n",
              "    fill: var(--fill-color);\n",
              "    height: 32px;\n",
              "    padding: 0;\n",
              "    width: 32px;\n",
              "  }\n",
              "\n",
              "  .colab-df-quickchart:hover {\n",
              "    background-color: var(--hover-bg-color);\n",
              "    box-shadow: 0 1px 2px rgba(60, 64, 67, 0.3), 0 1px 3px 1px rgba(60, 64, 67, 0.15);\n",
              "    fill: var(--button-hover-fill-color);\n",
              "  }\n",
              "\n",
              "  .colab-df-quickchart-complete:disabled,\n",
              "  .colab-df-quickchart-complete:disabled:hover {\n",
              "    background-color: var(--disabled-bg-color);\n",
              "    fill: var(--disabled-fill-color);\n",
              "    box-shadow: none;\n",
              "  }\n",
              "\n",
              "  .colab-df-spinner {\n",
              "    border: 2px solid var(--fill-color);\n",
              "    border-color: transparent;\n",
              "    border-bottom-color: var(--fill-color);\n",
              "    animation:\n",
              "      spin 1s steps(1) infinite;\n",
              "  }\n",
              "\n",
              "  @keyframes spin {\n",
              "    0% {\n",
              "      border-color: transparent;\n",
              "      border-bottom-color: var(--fill-color);\n",
              "      border-left-color: var(--fill-color);\n",
              "    }\n",
              "    20% {\n",
              "      border-color: transparent;\n",
              "      border-left-color: var(--fill-color);\n",
              "      border-top-color: var(--fill-color);\n",
              "    }\n",
              "    30% {\n",
              "      border-color: transparent;\n",
              "      border-left-color: var(--fill-color);\n",
              "      border-top-color: var(--fill-color);\n",
              "      border-right-color: var(--fill-color);\n",
              "    }\n",
              "    40% {\n",
              "      border-color: transparent;\n",
              "      border-right-color: var(--fill-color);\n",
              "      border-top-color: var(--fill-color);\n",
              "    }\n",
              "    60% {\n",
              "      border-color: transparent;\n",
              "      border-right-color: var(--fill-color);\n",
              "    }\n",
              "    80% {\n",
              "      border-color: transparent;\n",
              "      border-right-color: var(--fill-color);\n",
              "      border-bottom-color: var(--fill-color);\n",
              "    }\n",
              "    90% {\n",
              "      border-color: transparent;\n",
              "      border-bottom-color: var(--fill-color);\n",
              "    }\n",
              "  }\n",
              "</style>\n",
              "\n",
              "      <script>\n",
              "        async function quickchart(key) {\n",
              "          const quickchartButtonEl =\n",
              "            document.querySelector('#' + key + ' button');\n",
              "          quickchartButtonEl.disabled = true;  // To prevent multiple clicks.\n",
              "          quickchartButtonEl.classList.add('colab-df-spinner');\n",
              "          try {\n",
              "            const charts = await google.colab.kernel.invokeFunction(\n",
              "                'suggestCharts', [key], {});\n",
              "          } catch (error) {\n",
              "            console.error('Error during call to suggestCharts:', error);\n",
              "          }\n",
              "          quickchartButtonEl.classList.remove('colab-df-spinner');\n",
              "          quickchartButtonEl.classList.add('colab-df-quickchart-complete');\n",
              "        }\n",
              "        (() => {\n",
              "          let quickchartButtonEl =\n",
              "            document.querySelector('#df-6ae78c93-9e64-4910-9b9d-f878a33d6561 button');\n",
              "          quickchartButtonEl.style.display =\n",
              "            google.colab.kernel.accessAllowed ? 'block' : 'none';\n",
              "        })();\n",
              "      </script>\n",
              "    </div>\n",
              "\n",
              "    </div>\n",
              "  </div>\n"
            ],
            "application/vnd.google.colaboratory.intrinsic+json": {
              "type": "dataframe",
              "variable_name": "df_stream",
              "summary": "{\n  \"name\": \"df_stream\",\n  \"rows\": 40,\n  \"fields\": [\n    {\n      \"column\": \"timestamp\",\n      \"properties\": {\n        \"dtype\": \"date\",\n        \"min\": \"2025-05-26 01:30:38.704005\",\n        \"max\": \"2025-05-26 01:53:10.976311\",\n        \"num_unique_values\": 40,\n        \"samples\": [\n          \"2025-05-26 01:31:18.810527\",\n          \"2025-05-26 01:31:12.553070\",\n          \"2025-05-26 01:31:10.465081\"\n        ],\n        \"semantic_type\": \"\",\n        \"description\": \"\"\n      }\n    },\n    {\n      \"column\": \"customer_id\",\n      \"properties\": {\n        \"dtype\": \"number\",\n        \"std\": 2364,\n        \"min\": 1068,\n        \"max\": 9528,\n        \"num_unique_values\": 40,\n        \"samples\": [\n          2415,\n          1265,\n          7127\n        ],\n        \"semantic_type\": \"\",\n        \"description\": \"\"\n      }\n    },\n    {\n      \"column\": \"product\",\n      \"properties\": {\n        \"dtype\": \"category\",\n        \"num_unique_values\": 5,\n        \"samples\": [\n          \"Shirt\",\n          \"Shoes\",\n          \"Jacket\"\n        ],\n        \"semantic_type\": \"\",\n        \"description\": \"\"\n      }\n    },\n    {\n      \"column\": \"quantity\",\n      \"properties\": {\n        \"dtype\": \"number\",\n        \"std\": 1,\n        \"min\": 1,\n        \"max\": 5,\n        \"num_unique_values\": 5,\n        \"samples\": [\n          2,\n          1,\n          5\n        ],\n        \"semantic_type\": \"\",\n        \"description\": \"\"\n      }\n    },\n    {\n      \"column\": \"price_per_unit\",\n      \"properties\": {\n        \"dtype\": \"number\",\n        \"std\": 14.884168150705015,\n        \"min\": 19.99,\n        \"max\": 59.99,\n        \"num_unique_values\": 4,\n        \"samples\": [\n          19.99,\n          59.99,\n          49.99\n        ],\n        \"semantic_type\": \"\",\n        \"description\": \"\"\n      }\n    },\n    {\n      \"column\": \"total_price\",\n      \"properties\": {\n        \"dtype\": \"number\",\n        \"std\": 62.90673032304172,\n        \"min\": 29.99,\n        \"max\": 249.95000000000002,\n        \"num_unique_values\": 17,\n        \"samples\": [\n          199.96,\n          39.98,\n          149.97\n        ],\n        \"semantic_type\": \"\",\n        \"description\": \"\"\n      }\n    }\n  ]\n}"
            }
          },
          "metadata": {},
          "execution_count": 19
        }
      ]
    },
    {
      "cell_type": "markdown",
      "source": [
        "### **4. Add time-based columns to support analysis**"
      ],
      "metadata": {
        "id": "d3-ZYKrlPRb-"
      }
    },
    {
      "cell_type": "code",
      "source": [
        "df_stream['timestamp'] = pd.to_datetime(df_stream['timestamp'])\n",
        "df_stream['Hour'] = df_stream['timestamp'].dt.hour\n",
        "df_stream['Minute'] = df_stream['timestamp'].dt.minute\n",
        "df_stream['Day'] = df_stream['timestamp'].dt.date"
      ],
      "metadata": {
        "id": "E4xHIo0UPLIA"
      },
      "execution_count": 20,
      "outputs": []
    },
    {
      "cell_type": "markdown",
      "source": [
        "### **5. Visualize key insights**"
      ],
      "metadata": {
        "id": "Rheb91IwPsk-"
      }
    },
    {
      "cell_type": "code",
      "source": [
        "product_sales = df_stream.groupby('product')['total_price'].sum().sort_values(ascending=False)\n",
        "\n",
        "plt.figure(figsize=(8, 5))\n",
        "bars = plt.bar(product_sales.index, product_sales.values, width=0.5)\n",
        "\n",
        "plt.title(\"Total Revenue by Product\")\n",
        "plt.xlabel(\"Product\")\n",
        "plt.ylabel(\"Revenue ($)\")\n",
        "\n",
        "# Add dollar signs on top of the bars\n",
        "for bar in bars:\n",
        "    yval = bar.get_height()\n",
        "    plt.text(bar.get_x() + bar.get_width()/2, yval + 5, f'${yval:.0f}', ha='center', va='bottom')\n",
        "\n",
        "plt.tight_layout()\n",
        "plt.show()"
      ],
      "metadata": {
        "colab": {
          "base_uri": "https://localhost:8080/",
          "height": 507
        },
        "id": "8JdoO9gKPqqn",
        "outputId": "94235df0-02a5-4acc-ea2d-e8c08c0d0229"
      },
      "execution_count": 21,
      "outputs": [
        {
          "output_type": "display_data",
          "data": {
            "text/plain": [
              "<Figure size 800x500 with 1 Axes>"
            ],
            "image/png": "[encoded data removed]"
          },
          "metadata": {}
        }
      ]
    }
  ]
}